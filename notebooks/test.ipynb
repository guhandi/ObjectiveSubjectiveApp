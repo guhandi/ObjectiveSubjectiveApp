{
 "cells": [
  {
   "cell_type": "code",
   "execution_count": 1,
   "id": "b43c0553",
   "metadata": {},
   "outputs": [],
   "source": [
    "import sqlite3\n",
    "import pandas as pd\n",
    "import numpy as np\n",
    "import matplotlib.pyplot as plt\n",
    "import seaborn as sns\n",
    "\n",
    "import sys\n",
    "import os\n",
    "sys.path.append(os.path.abspath('/Users/guhansundar/Documents/GuData/ObjectiveSubjectiveHealth/'))\n",
    "from scripts.parse_database import *\n"
   ]
  },
  {
   "cell_type": "code",
   "execution_count": 20,
   "id": "4733573c",
   "metadata": {},
   "outputs": [
    {
     "data": {
      "text/plain": [
       "app_id\n",
       "behavioral       3\n",
       "daily_core       4\n",
       "nback_1min_v1    3\n",
       "pvt_1min_v1      2\n",
       "stroop           5\n",
       "wellbeing        4\n",
       "Name: session_timestamp, dtype: int64"
      ]
     },
     "execution_count": 20,
     "metadata": {},
     "output_type": "execute_result"
    }
   ],
   "source": [
    "DATABASE_PATH = '/Users/guhansundar/Documents/GuData/ObjectiveSubjectiveHealth/data/database.db'\n",
    "conn = sqlite3.connect(DATABASE_PATH)\n",
    "\n",
    "events_df = load_data(conn)\n",
    "events_df.groupby(['app_id'])['session_timestamp'].nunique()\n"
   ]
  },
  {
   "cell_type": "code",
   "execution_count": null,
   "id": "b10a2080",
   "metadata": {},
   "outputs": [],
   "source": []
  },
  {
   "cell_type": "code",
   "execution_count": 21,
   "id": "7169ca44",
   "metadata": {},
   "outputs": [],
   "source": [
    "feat_dict = {\n",
    "    'behave_df' : parse_survey_data(events_df, 'behavioral'),\n",
    "    'well_df' : parse_survey_data(events_df, 'wellbeing'),\n",
    "    'daycore_df' : parse_survey_data(events_df, 'daily_core'),\n",
    "    'pvt_df' : parse_pvt(events_df),\n",
    "    'stroop_df' : parse_stroop(events_df)\n",
    "}\n",
    "\n",
    "\n"
   ]
  },
  {
   "cell_type": "code",
   "execution_count": 24,
   "id": "a532f788",
   "metadata": {},
   "outputs": [
    {
     "data": {
      "text/html": [
       "<div>\n",
       "<style scoped>\n",
       "    .dataframe tbody tr th:only-of-type {\n",
       "        vertical-align: middle;\n",
       "    }\n",
       "\n",
       "    .dataframe tbody tr th {\n",
       "        vertical-align: top;\n",
       "    }\n",
       "\n",
       "    .dataframe thead th {\n",
       "        text-align: right;\n",
       "    }\n",
       "</style>\n",
       "<table border=\"1\" class=\"dataframe\">\n",
       "  <thead>\n",
       "    <tr style=\"text-align: right;\">\n",
       "      <th>item_id</th>\n",
       "      <th>session_id</th>\n",
       "      <th>session_timestamp</th>\n",
       "      <th>wst_confident</th>\n",
       "      <th>wst_control</th>\n",
       "      <th>wst_overwhelmed</th>\n",
       "      <th>wst_unexpected</th>\n",
       "      <th>wwb_active</th>\n",
       "      <th>wwb_calm</th>\n",
       "      <th>wwb_cheerful</th>\n",
       "      <th>wwb_fresh</th>\n",
       "      <th>wwb_interested</th>\n",
       "    </tr>\n",
       "    <tr>\n",
       "      <th>subject_id</th>\n",
       "      <th></th>\n",
       "      <th></th>\n",
       "      <th></th>\n",
       "      <th></th>\n",
       "      <th></th>\n",
       "      <th></th>\n",
       "      <th></th>\n",
       "      <th></th>\n",
       "      <th></th>\n",
       "      <th></th>\n",
       "      <th></th>\n",
       "    </tr>\n",
       "  </thead>\n",
       "  <tbody>\n",
       "    <tr>\n",
       "      <th>demo</th>\n",
       "      <td>07a94a20-768e-4b9f-9f57-407139b57d6b</td>\n",
       "      <td>2025-08-17 00:21:15.312000+00:00</td>\n",
       "      <td>1</td>\n",
       "      <td>0</td>\n",
       "      <td>2</td>\n",
       "      <td>4</td>\n",
       "      <td>5</td>\n",
       "      <td>1</td>\n",
       "      <td>2</td>\n",
       "      <td>5</td>\n",
       "      <td>5</td>\n",
       "    </tr>\n",
       "    <tr>\n",
       "      <th>demo</th>\n",
       "      <td>4062097f-12e9-4932-9afa-55dbb0a12392</td>\n",
       "      <td>2025-08-16 23:29:21.007000+00:00</td>\n",
       "      <td>2</td>\n",
       "      <td>2</td>\n",
       "      <td>2</td>\n",
       "      <td>2</td>\n",
       "      <td>2</td>\n",
       "      <td>2</td>\n",
       "      <td>2</td>\n",
       "      <td>2</td>\n",
       "      <td>2</td>\n",
       "    </tr>\n",
       "    <tr>\n",
       "      <th>demo</th>\n",
       "      <td>b88781d8-1831-4131-ab6a-3b2f874711df</td>\n",
       "      <td>2025-08-16 23:40:00.867000+00:00</td>\n",
       "      <td>2</td>\n",
       "      <td>2</td>\n",
       "      <td>2</td>\n",
       "      <td>2</td>\n",
       "      <td>2</td>\n",
       "      <td>2</td>\n",
       "      <td>2</td>\n",
       "      <td>2</td>\n",
       "      <td>2</td>\n",
       "    </tr>\n",
       "  </tbody>\n",
       "</table>\n",
       "</div>"
      ],
      "text/plain": [
       "item_id                               session_id  \\\n",
       "subject_id                                         \n",
       "demo        07a94a20-768e-4b9f-9f57-407139b57d6b   \n",
       "demo        4062097f-12e9-4932-9afa-55dbb0a12392   \n",
       "demo        b88781d8-1831-4131-ab6a-3b2f874711df   \n",
       "\n",
       "item_id                   session_timestamp wst_confident wst_control  \\\n",
       "subject_id                                                              \n",
       "demo       2025-08-17 00:21:15.312000+00:00             1           0   \n",
       "demo       2025-08-16 23:29:21.007000+00:00             2           2   \n",
       "demo       2025-08-16 23:40:00.867000+00:00             2           2   \n",
       "\n",
       "item_id    wst_overwhelmed wst_unexpected wwb_active wwb_calm wwb_cheerful  \\\n",
       "subject_id                                                                   \n",
       "demo                     2              4          5        1            2   \n",
       "demo                     2              2          2        2            2   \n",
       "demo                     2              2          2        2            2   \n",
       "\n",
       "item_id    wwb_fresh wwb_interested  \n",
       "subject_id                           \n",
       "demo               5              5  \n",
       "demo               2              2  \n",
       "demo               2              2  "
      ]
     },
     "execution_count": 24,
     "metadata": {},
     "output_type": "execute_result"
    }
   ],
   "source": [
    "feat_dict['well_df']"
   ]
  },
  {
   "cell_type": "code",
   "execution_count": 14,
   "id": "859f997a",
   "metadata": {},
   "outputs": [],
   "source": [
    "pd.concat(feat_dict.values(), axis=0).to_csv('features.csv')"
   ]
  },
  {
   "cell_type": "markdown",
   "id": "6976b01c",
   "metadata": {},
   "source": [
    "## Testing"
   ]
  },
  {
   "cell_type": "code",
   "execution_count": null,
   "id": "fa73dde0",
   "metadata": {},
   "outputs": [],
   "source": [
    "# import sqlite3\n",
    "# db = \"/Users/guhansundar/Documents/GuData/ObjectiveSubjectiveHealth/data/database.db\"\n",
    "# conn = sqlite3.connect(db)\n",
    "# cur = conn.cursor()\n",
    "# sid = 'ce757866-4310-4e0a-97ed-c440e828c774'\n",
    "# cur.execute(\"BEGIN\")\n",
    "# cur.execute(\"DELETE FROM events WHERE session_id=?\", (sid,))\n",
    "# cur.execute(\"DELETE FROM assets WHERE session_id=?\", (sid,))\n",
    "# cur.execute(\"DELETE FROM sessions WHERE session_id=?\", (sid,))\n",
    "# conn.commit()\n",
    "# conn.close()"
   ]
  },
  {
   "cell_type": "code",
   "execution_count": null,
   "id": "529aecd0",
   "metadata": {},
   "outputs": [],
   "source": [
    "cleaned = expand_by_app(events_df, app_col=\"app_id\", payload_col=\"payload\")"
   ]
  },
  {
   "cell_type": "code",
   "execution_count": null,
   "id": "297c5e8c",
   "metadata": {},
   "outputs": [],
   "source": [
    "cleaned.keys()"
   ]
  },
  {
   "cell_type": "code",
   "execution_count": null,
   "id": "604ccb02",
   "metadata": {},
   "outputs": [],
   "source": [
    "cleaned['nback_1min_v1']"
   ]
  },
  {
   "cell_type": "code",
   "execution_count": null,
   "id": "373e1518",
   "metadata": {},
   "outputs": [],
   "source": [
    "# drop_ids = ['7d7c55cc-cb2a-4fc9-8ecb-e7d9d41d1c80', '7d7c55cc-cb2a-4fc9-8ecb-e7d9d41d1c80']\n",
    "# events_df.query(\"session_id not in @drop_ids\")\n",
    "events_df.query(\"app_type == 'survey'\")"
   ]
  },
  {
   "cell_type": "code",
   "execution_count": null,
   "id": "d656bfbe",
   "metadata": {},
   "outputs": [],
   "source": [
    "DATABASE_PATH = '/Users/guhansundar/Documents/GuData/ObjectiveSubjectiveHealth/data/database.db'\n",
    "conn = sqlite3.connect(DATABASE_PATH)\n",
    "\n",
    "\n",
    "subject_id = 'demo'\n",
    "\n",
    "# Query the data\n",
    "query = f\"\"\"\n",
    "SELECT *\n",
    "FROM events\n",
    "WHERE app_type = 'survey'\n",
    "and subject_id = '{subject_id}'\n",
    "\"\"\"\n",
    "df = pd.read_sql_query(query, conn)"
   ]
  },
  {
   "cell_type": "code",
   "execution_count": null,
   "id": "dccef446",
   "metadata": {},
   "outputs": [],
   "source": [
    "df"
   ]
  },
  {
   "cell_type": "code",
   "execution_count": null,
   "id": "5bb37341",
   "metadata": {},
   "outputs": [],
   "source": [
    "print(list_available_surveys(conn, subject_id='demo'))"
   ]
  },
  {
   "cell_type": "code",
   "execution_count": null,
   "id": "b58e3e64",
   "metadata": {},
   "outputs": [],
   "source": [
    "df = get_survey_data_for_subject(subject_id='demo', survey='daily_core', conn=conn)\n"
   ]
  },
  {
   "cell_type": "code",
   "execution_count": null,
   "id": "a2bbf347",
   "metadata": {},
   "outputs": [],
   "source": [
    "df"
   ]
  },
  {
   "cell_type": "code",
   "execution_count": null,
   "id": "bedbeba1",
   "metadata": {},
   "outputs": [],
   "source": [
    "print(\"Current PYTHONPATH:\", sys.path)"
   ]
  },
  {
   "cell_type": "code",
   "execution_count": null,
   "id": "057db8c4",
   "metadata": {},
   "outputs": [],
   "source": [
    "print(\"Current PYTHONPATH:\", sys.path)"
   ]
  },
  {
   "cell_type": "code",
   "execution_count": null,
   "id": "ebc6f6ba",
   "metadata": {},
   "outputs": [],
   "source": [
    "wide"
   ]
  },
  {
   "cell_type": "code",
   "execution_count": null,
   "id": "cf38ff55",
   "metadata": {},
   "outputs": [],
   "source": []
  }
 ],
 "metadata": {
  "kernelspec": {
   "display_name": "base",
   "language": "python",
   "name": "python3"
  },
  "language_info": {
   "codemirror_mode": {
    "name": "ipython",
    "version": 3
   },
   "file_extension": ".py",
   "mimetype": "text/x-python",
   "name": "python",
   "nbconvert_exporter": "python",
   "pygments_lexer": "ipython3",
   "version": "3.12.2"
  }
 },
 "nbformat": 4,
 "nbformat_minor": 5
}
