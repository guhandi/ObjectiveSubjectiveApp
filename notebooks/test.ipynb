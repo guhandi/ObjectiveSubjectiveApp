{
 "cells": [
  {
   "cell_type": "code",
   "execution_count": 144,
   "id": "b43c0553",
   "metadata": {},
   "outputs": [],
   "source": [
    "import sqlite3\n",
    "import pandas as pd\n",
    "import numpy as np\n",
    "import matplotlib.pyplot as plt\n",
    "import seaborn as sns\n",
    "\n",
    "import sys\n",
    "import os\n",
    "sys.path.append(os.path.abspath('/Users/guhansundar/Documents/GuData/ObjectiveSubjectiveHealth/'))\n",
    "from scripts.parse_database import *\n"
   ]
  },
  {
   "cell_type": "code",
   "execution_count": 145,
   "id": "4733573c",
   "metadata": {},
   "outputs": [
    {
     "data": {
      "text/plain": [
       "app_id\n",
       "behavioral       3\n",
       "daily_core       3\n",
       "nback_1min_v1    3\n",
       "pvt_1min_v1      2\n",
       "stroop           4\n",
       "wellbeing        4\n",
       "Name: session_timestamp, dtype: int64"
      ]
     },
     "execution_count": 145,
     "metadata": {},
     "output_type": "execute_result"
    }
   ],
   "source": [
    "DATABASE_PATH = '/Users/guhansundar/Documents/GuData/ObjectiveSubjectiveHealth/data/database.db'\n",
    "conn = sqlite3.connect(DATABASE_PATH)\n",
    "\n",
    "events_df = load_data(conn)\n",
    "events_df.groupby(['app_id'])['session_timestamp'].nunique()\n"
   ]
  },
  {
   "cell_type": "code",
   "execution_count": null,
   "id": "b10a2080",
   "metadata": {},
   "outputs": [],
   "source": []
  },
  {
   "cell_type": "code",
   "execution_count": null,
   "id": "7169ca44",
   "metadata": {},
   "outputs": [],
   "source": [
    "behave_df = parse_survey_data(events_df, 'behavioral')\n",
    "well_df = parse_survey_data(events_df, 'wellbeing')\n",
    "daycore_df = parse_survey_data(events_df, 'daily_core')\n",
    "pvt_df = parse_pvt(events_df)\n",
    "stroop_df = parse_stroop(events_df)"
   ]
  },
  {
   "cell_type": "code",
   "execution_count": 147,
   "id": "859f997a",
   "metadata": {},
   "outputs": [
    {
     "data": {
      "text/html": [
       "<div>\n",
       "<style scoped>\n",
       "    .dataframe tbody tr th:only-of-type {\n",
       "        vertical-align: middle;\n",
       "    }\n",
       "\n",
       "    .dataframe tbody tr th {\n",
       "        vertical-align: top;\n",
       "    }\n",
       "\n",
       "    .dataframe thead th {\n",
       "        text-align: right;\n",
       "    }\n",
       "</style>\n",
       "<table border=\"1\" class=\"dataframe\">\n",
       "  <thead>\n",
       "    <tr style=\"text-align: right;\">\n",
       "      <th></th>\n",
       "      <th>subject_id</th>\n",
       "      <th>session_id</th>\n",
       "      <th>session_timestamp</th>\n",
       "      <th>acc_overall</th>\n",
       "      <th>acc_congruent</th>\n",
       "      <th>acc_incongruent</th>\n",
       "      <th>acc_interference</th>\n",
       "      <th>rt_mean_congruent</th>\n",
       "      <th>rt_mean_incongruent</th>\n",
       "      <th>rt_interference</th>\n",
       "      <th>ies_congruent</th>\n",
       "      <th>ies_incongruent</th>\n",
       "      <th>ies_interference</th>\n",
       "    </tr>\n",
       "  </thead>\n",
       "  <tbody>\n",
       "    <tr>\n",
       "      <th>0</th>\n",
       "      <td>demo</td>\n",
       "      <td>0723f279-7165-4edd-adff-8e7ec31b9d7c</td>\n",
       "      <td>2025-08-17 00:27:08.111000+00:00</td>\n",
       "      <td>0.7</td>\n",
       "      <td>0.8</td>\n",
       "      <td>0.6</td>\n",
       "      <td>-0.2</td>\n",
       "      <td>991.0</td>\n",
       "      <td>737.333333</td>\n",
       "      <td>-253.666667</td>\n",
       "      <td>1238.75</td>\n",
       "      <td>1228.888889</td>\n",
       "      <td>-9.861111</td>\n",
       "    </tr>\n",
       "    <tr>\n",
       "      <th>1</th>\n",
       "      <td>demo</td>\n",
       "      <td>b238e6d7-ec06-461f-a9d4-7f64681cb3f4</td>\n",
       "      <td>2025-08-16 23:10:42.876000+00:00</td>\n",
       "      <td>0.9</td>\n",
       "      <td>1.0</td>\n",
       "      <td>0.8</td>\n",
       "      <td>-0.2</td>\n",
       "      <td>587.2</td>\n",
       "      <td>629.250000</td>\n",
       "      <td>42.050000</td>\n",
       "      <td>587.20</td>\n",
       "      <td>786.562500</td>\n",
       "      <td>199.362500</td>\n",
       "    </tr>\n",
       "    <tr>\n",
       "      <th>2</th>\n",
       "      <td>demo</td>\n",
       "      <td>b35a462e-756b-4ece-bf5f-7a0e4bb3754c</td>\n",
       "      <td>2025-08-16 23:42:35.929000+00:00</td>\n",
       "      <td>0.9</td>\n",
       "      <td>1.0</td>\n",
       "      <td>0.8</td>\n",
       "      <td>-0.2</td>\n",
       "      <td>569.0</td>\n",
       "      <td>814.000000</td>\n",
       "      <td>245.000000</td>\n",
       "      <td>569.00</td>\n",
       "      <td>1017.500000</td>\n",
       "      <td>448.500000</td>\n",
       "    </tr>\n",
       "    <tr>\n",
       "      <th>3</th>\n",
       "      <td>demo</td>\n",
       "      <td>d3767827-2041-4cc7-87fc-4b28a1ee1b1a</td>\n",
       "      <td>2025-08-16 23:20:06.046000+00:00</td>\n",
       "      <td>NaN</td>\n",
       "      <td>NaN</td>\n",
       "      <td>NaN</td>\n",
       "      <td>NaN</td>\n",
       "      <td>NaN</td>\n",
       "      <td>NaN</td>\n",
       "      <td>NaN</td>\n",
       "      <td>NaN</td>\n",
       "      <td>NaN</td>\n",
       "      <td>NaN</td>\n",
       "    </tr>\n",
       "  </tbody>\n",
       "</table>\n",
       "</div>"
      ],
      "text/plain": [
       "  subject_id                            session_id  \\\n",
       "0       demo  0723f279-7165-4edd-adff-8e7ec31b9d7c   \n",
       "1       demo  b238e6d7-ec06-461f-a9d4-7f64681cb3f4   \n",
       "2       demo  b35a462e-756b-4ece-bf5f-7a0e4bb3754c   \n",
       "3       demo  d3767827-2041-4cc7-87fc-4b28a1ee1b1a   \n",
       "\n",
       "                 session_timestamp  acc_overall  acc_congruent  \\\n",
       "0 2025-08-17 00:27:08.111000+00:00          0.7            0.8   \n",
       "1 2025-08-16 23:10:42.876000+00:00          0.9            1.0   \n",
       "2 2025-08-16 23:42:35.929000+00:00          0.9            1.0   \n",
       "3 2025-08-16 23:20:06.046000+00:00          NaN            NaN   \n",
       "\n",
       "   acc_incongruent  acc_interference  rt_mean_congruent  rt_mean_incongruent  \\\n",
       "0              0.6              -0.2              991.0           737.333333   \n",
       "1              0.8              -0.2              587.2           629.250000   \n",
       "2              0.8              -0.2              569.0           814.000000   \n",
       "3              NaN               NaN                NaN                  NaN   \n",
       "\n",
       "   rt_interference  ies_congruent  ies_incongruent  ies_interference  \n",
       "0      -253.666667        1238.75      1228.888889         -9.861111  \n",
       "1        42.050000         587.20       786.562500        199.362500  \n",
       "2       245.000000         569.00      1017.500000        448.500000  \n",
       "3              NaN            NaN              NaN               NaN  "
      ]
     },
     "execution_count": 147,
     "metadata": {},
     "output_type": "execute_result"
    }
   ],
   "source": [
    "stroop_df"
   ]
  },
  {
   "cell_type": "markdown",
   "id": "6976b01c",
   "metadata": {},
   "source": [
    "## Testing"
   ]
  },
  {
   "cell_type": "code",
   "execution_count": null,
   "id": "fa73dde0",
   "metadata": {},
   "outputs": [],
   "source": [
    "# import sqlite3\n",
    "# db = \"/Users/guhansundar/Documents/GuData/ObjectiveSubjectiveHealth/data/database.db\"\n",
    "# conn = sqlite3.connect(db)\n",
    "# cur = conn.cursor()\n",
    "# sid = 'ce757866-4310-4e0a-97ed-c440e828c774'\n",
    "# cur.execute(\"BEGIN\")\n",
    "# cur.execute(\"DELETE FROM events WHERE session_id=?\", (sid,))\n",
    "# cur.execute(\"DELETE FROM assets WHERE session_id=?\", (sid,))\n",
    "# cur.execute(\"DELETE FROM sessions WHERE session_id=?\", (sid,))\n",
    "# conn.commit()\n",
    "# conn.close()"
   ]
  },
  {
   "cell_type": "code",
   "execution_count": null,
   "id": "529aecd0",
   "metadata": {},
   "outputs": [],
   "source": [
    "cleaned = expand_by_app(events_df, app_col=\"app_id\", payload_col=\"payload\")"
   ]
  },
  {
   "cell_type": "code",
   "execution_count": null,
   "id": "297c5e8c",
   "metadata": {},
   "outputs": [],
   "source": [
    "cleaned.keys()"
   ]
  },
  {
   "cell_type": "code",
   "execution_count": null,
   "id": "604ccb02",
   "metadata": {},
   "outputs": [],
   "source": [
    "cleaned['nback_1min_v1']"
   ]
  },
  {
   "cell_type": "code",
   "execution_count": null,
   "id": "373e1518",
   "metadata": {},
   "outputs": [],
   "source": [
    "# drop_ids = ['7d7c55cc-cb2a-4fc9-8ecb-e7d9d41d1c80', '7d7c55cc-cb2a-4fc9-8ecb-e7d9d41d1c80']\n",
    "# events_df.query(\"session_id not in @drop_ids\")\n",
    "events_df.query(\"app_type == 'survey'\")"
   ]
  },
  {
   "cell_type": "code",
   "execution_count": null,
   "id": "d656bfbe",
   "metadata": {},
   "outputs": [],
   "source": [
    "DATABASE_PATH = '/Users/guhansundar/Documents/GuData/ObjectiveSubjectiveHealth/data/database.db'\n",
    "conn = sqlite3.connect(DATABASE_PATH)\n",
    "\n",
    "\n",
    "subject_id = 'demo'\n",
    "\n",
    "# Query the data\n",
    "query = f\"\"\"\n",
    "SELECT *\n",
    "FROM events\n",
    "WHERE app_type = 'survey'\n",
    "and subject_id = '{subject_id}'\n",
    "\"\"\"\n",
    "df = pd.read_sql_query(query, conn)"
   ]
  },
  {
   "cell_type": "code",
   "execution_count": null,
   "id": "dccef446",
   "metadata": {},
   "outputs": [],
   "source": [
    "df"
   ]
  },
  {
   "cell_type": "code",
   "execution_count": null,
   "id": "5bb37341",
   "metadata": {},
   "outputs": [],
   "source": [
    "print(list_available_surveys(conn, subject_id='demo'))"
   ]
  },
  {
   "cell_type": "code",
   "execution_count": null,
   "id": "b58e3e64",
   "metadata": {},
   "outputs": [],
   "source": [
    "df = get_survey_data_for_subject(subject_id='demo', survey='daily_core', conn=conn)\n"
   ]
  },
  {
   "cell_type": "code",
   "execution_count": null,
   "id": "a2bbf347",
   "metadata": {},
   "outputs": [],
   "source": [
    "df"
   ]
  },
  {
   "cell_type": "code",
   "execution_count": null,
   "id": "bedbeba1",
   "metadata": {},
   "outputs": [],
   "source": [
    "print(\"Current PYTHONPATH:\", sys.path)"
   ]
  },
  {
   "cell_type": "code",
   "execution_count": null,
   "id": "057db8c4",
   "metadata": {},
   "outputs": [],
   "source": [
    "print(\"Current PYTHONPATH:\", sys.path)"
   ]
  },
  {
   "cell_type": "code",
   "execution_count": null,
   "id": "ebc6f6ba",
   "metadata": {},
   "outputs": [],
   "source": [
    "wide"
   ]
  },
  {
   "cell_type": "code",
   "execution_count": null,
   "id": "cf38ff55",
   "metadata": {},
   "outputs": [],
   "source": []
  }
 ],
 "metadata": {
  "kernelspec": {
   "display_name": "base",
   "language": "python",
   "name": "python3"
  },
  "language_info": {
   "codemirror_mode": {
    "name": "ipython",
    "version": 3
   },
   "file_extension": ".py",
   "mimetype": "text/x-python",
   "name": "python",
   "nbconvert_exporter": "python",
   "pygments_lexer": "ipython3",
   "version": "3.12.2"
  }
 },
 "nbformat": 4,
 "nbformat_minor": 5
}
