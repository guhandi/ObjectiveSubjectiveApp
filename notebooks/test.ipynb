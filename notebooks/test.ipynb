{
 "cells": [
  {
   "cell_type": "code",
   "execution_count": 1,
   "id": "b43c0553",
   "metadata": {},
   "outputs": [],
   "source": [
    "import sqlite3\n",
    "import pandas as pd\n",
    "import numpy as np\n",
    "import matplotlib.pyplot as plt\n",
    "import seaborn as sns\n",
    "\n",
    "import sys\n",
    "import os\n",
    "sys.path.append(os.path.abspath('/Users/guhansundar/Documents/GuData/ObjectiveSubjectiveHealth/'))\n",
    "from scripts.parse_surveys import _resolve_survey_app_id_from_db, _prepare_wide_by_app_from_db, get_survey_data_for_subject, list_available_surveys\n"
   ]
  },
  {
   "cell_type": "code",
   "execution_count": 2,
   "id": "4733573c",
   "metadata": {},
   "outputs": [],
   "source": [
    "DATABASE_PATH = '/Users/guhansundar/Documents/GuData/ObjectiveSubjectiveHealth/data/database.db'\n",
    "conn = sqlite3.connect(DATABASE_PATH)\n"
   ]
  },
  {
   "cell_type": "code",
   "execution_count": 3,
   "id": "c545c22e",
   "metadata": {},
   "outputs": [],
   "source": [
    "events_df = pd.read_sql_query(\"SELECT * FROM events\", conn)"
   ]
  },
  {
   "cell_type": "code",
   "execution_count": null,
   "id": "c36515f9",
   "metadata": {},
   "outputs": [],
   "source": [
    "events_df.columns"
   ]
  },
  {
   "cell_type": "code",
   "execution_count": null,
   "id": "d656bfbe",
   "metadata": {},
   "outputs": [],
   "source": [
    "DATABASE_PATH = '/Users/guhansundar/Documents/GuData/ObjectiveSubjectiveHealth/data/database.db'\n",
    "conn = sqlite3.connect(DATABASE_PATH)\n",
    "\n",
    "\n",
    "subject_id = 'demo'\n",
    "\n",
    "# Query the data\n",
    "query = f\"\"\"\n",
    "SELECT *\n",
    "FROM events\n",
    "WHERE app_type = 'survey'\n",
    "and subject_id = '{subject_id}'\n",
    "\"\"\"\n",
    "df = pd.read_sql_query(query, conn)"
   ]
  },
  {
   "cell_type": "code",
   "execution_count": null,
   "id": "dccef446",
   "metadata": {},
   "outputs": [],
   "source": [
    "df"
   ]
  },
  {
   "cell_type": "code",
   "execution_count": null,
   "id": "5bb37341",
   "metadata": {},
   "outputs": [],
   "source": [
    "print(list_available_surveys(conn, subject_id='demo'))"
   ]
  },
  {
   "cell_type": "code",
   "execution_count": 4,
   "id": "b58e3e64",
   "metadata": {},
   "outputs": [],
   "source": [
    "df = get_survey_data_for_subject(subject_id='demo', survey='daily_core', conn=conn)\n"
   ]
  },
  {
   "cell_type": "code",
   "execution_count": 5,
   "id": "a2bbf347",
   "metadata": {},
   "outputs": [
    {
     "data": {
      "text/html": [
       "<div>\n",
       "<style scoped>\n",
       "    .dataframe tbody tr th:only-of-type {\n",
       "        vertical-align: middle;\n",
       "    }\n",
       "\n",
       "    .dataframe tbody tr th {\n",
       "        vertical-align: top;\n",
       "    }\n",
       "\n",
       "    .dataframe thead th {\n",
       "        text-align: right;\n",
       "    }\n",
       "</style>\n",
       "<table border=\"1\" class=\"dataframe\">\n",
       "  <thead>\n",
       "    <tr style=\"text-align: right;\">\n",
       "      <th></th>\n",
       "      <th>energy_1to5__value</th>\n",
       "      <th>happiness_1to5__value</th>\n",
       "      <th>productive_1to5__value</th>\n",
       "      <th>social_fulfillment_1to5__value</th>\n",
       "      <th>stress_1to5__value</th>\n",
       "      <th>ts_utc</th>\n",
       "    </tr>\n",
       "    <tr>\n",
       "      <th>session_id</th>\n",
       "      <th></th>\n",
       "      <th></th>\n",
       "      <th></th>\n",
       "      <th></th>\n",
       "      <th></th>\n",
       "      <th></th>\n",
       "    </tr>\n",
       "  </thead>\n",
       "  <tbody>\n",
       "    <tr>\n",
       "      <th>2025-08-16 08:41:20.483000+00:00</th>\n",
       "      <td>5.0</td>\n",
       "      <td>4.0</td>\n",
       "      <td>5.0</td>\n",
       "      <td>2.0</td>\n",
       "      <td>3.0</td>\n",
       "      <td>2025-08-16 21:12:58.641000+00:00</td>\n",
       "    </tr>\n",
       "  </tbody>\n",
       "</table>\n",
       "</div>"
      ],
      "text/plain": [
       "                                  energy_1to5__value  happiness_1to5__value  \\\n",
       "session_id                                                                    \n",
       "2025-08-16 08:41:20.483000+00:00                 5.0                    4.0   \n",
       "\n",
       "                                  productive_1to5__value  \\\n",
       "session_id                                                 \n",
       "2025-08-16 08:41:20.483000+00:00                     5.0   \n",
       "\n",
       "                                  social_fulfillment_1to5__value  \\\n",
       "session_id                                                         \n",
       "2025-08-16 08:41:20.483000+00:00                             2.0   \n",
       "\n",
       "                                  stress_1to5__value  \\\n",
       "session_id                                             \n",
       "2025-08-16 08:41:20.483000+00:00                 3.0   \n",
       "\n",
       "                                                           ts_utc  \n",
       "session_id                                                         \n",
       "2025-08-16 08:41:20.483000+00:00 2025-08-16 21:12:58.641000+00:00  "
      ]
     },
     "execution_count": 5,
     "metadata": {},
     "output_type": "execute_result"
    }
   ],
   "source": [
    "df"
   ]
  },
  {
   "cell_type": "code",
   "execution_count": 4,
   "id": "bc437b4f",
   "metadata": {},
   "outputs": [],
   "source": [
    "subject_id = 'demo'\n",
    "survey= 'daily_core'\n",
    "table= \"events\"\n",
    "include_session_as_index = True\n",
    "\n",
    "\"\"\"\n",
    "Return a dataframe for a given subject and survey (app_id) where:\n",
    "    - rows = sessions (timestamp)\n",
    "    - columns = metrics from that survey's payload, e.g., \"<item_id>__value\", \"<item_id>__rt\"\n",
    "Works for all surveys present in the DB.\n",
    "\n",
    "Args:\n",
    "    subject_id: subject identifier to filter on.\n",
    "    survey: survey identifier (prefer exact app_id, e.g., 'demo_all_inputs_v1').\n",
    "            Substrings are allowed and resolved if unambiguous.\n",
    "    conn: sqlite3 connection (e.g., sqlite3.connect(DB_PATH)).\n",
    "    table: DB table name (default 'events').\n",
    "    include_session_as_index: if True, return df indexed by timestamp.\n",
    "\n",
    "Returns:\n",
    "    pd.DataFrame with rows as timestamp and columns as survey metric columns.\n",
    "\"\"\"\n",
    "app_id = _resolve_survey_app_id_from_db(conn, survey, subject_id=subject_id, table=table)\n",
    "\n",
    "# Build a wide table for just this subject & this survey\n",
    "wide = _prepare_wide_by_app_from_db(conn, subject_id=subject_id, app_id=app_id, table=table)\n",
    "if wide.empty:\n",
    "    raise ValueError(f\"No rows found for subject_id='{subject_id}' and survey(app_id)='{app_id}'.\")\n",
    "\n",
    "# Keep only metric columns (drop identifiers)\n",
    "# id_cols = {\"subject_id\", \"session_id\", \"app_id\", \"app_type\"}\n",
    "# metric_cols = [c for c in wide.columns if c not in id_cols]\n",
    "\n",
    "# out = wide[[\"ts_utc\"] + metric_cols].copy()\n",
    "\n",
    "# # Convert 'ts_utc' to datetime and set as index\n",
    "# out['ts_utc'] = pd.to_datetime(out['ts_utc'], utc=True)\n",
    "\n",
    "# # One row per timestamp (if duplicates, take last non-null per column)\n",
    "# out = (\n",
    "#     out.groupby(\"ts_utc\", dropna=False)\n",
    "#     .agg(_last_nonnull)\n",
    "#     .reset_index()\n",
    "#     .sort_values(\"ts_utc\")\n",
    "# )\n",
    "\n",
    "# if include_session_as_index:\n",
    "#     out = out.set_index(\"ts_utc\")\n",
    "\n",
    "# # Consistent column order\n",
    "# out = out.reindex(sorted(out.columns), axis=1)\n"
   ]
  },
  {
   "cell_type": "code",
   "execution_count": null,
   "id": "bedbeba1",
   "metadata": {},
   "outputs": [],
   "source": [
    "print(\"Current PYTHONPATH:\", sys.path)"
   ]
  },
  {
   "cell_type": "code",
   "execution_count": null,
   "id": "057db8c4",
   "metadata": {},
   "outputs": [],
   "source": [
    "print(\"Current PYTHONPATH:\", sys.path)"
   ]
  },
  {
   "cell_type": "code",
   "execution_count": 5,
   "id": "ebc6f6ba",
   "metadata": {},
   "outputs": [
    {
     "data": {
      "text/html": [
       "<div>\n",
       "<style scoped>\n",
       "    .dataframe tbody tr th:only-of-type {\n",
       "        vertical-align: middle;\n",
       "    }\n",
       "\n",
       "    .dataframe tbody tr th {\n",
       "        vertical-align: top;\n",
       "    }\n",
       "\n",
       "    .dataframe thead th {\n",
       "        text-align: right;\n",
       "    }\n",
       "</style>\n",
       "<table border=\"1\" class=\"dataframe\">\n",
       "  <thead>\n",
       "    <tr style=\"text-align: right;\">\n",
       "      <th></th>\n",
       "      <th>subject_id</th>\n",
       "      <th>session_id</th>\n",
       "      <th>app_id</th>\n",
       "      <th>app_type</th>\n",
       "      <th>ts_utc</th>\n",
       "      <th>happiness_1to5__value</th>\n",
       "      <th>energy_1to5__value</th>\n",
       "      <th>stress_1to5__value</th>\n",
       "      <th>productive_1to5__value</th>\n",
       "      <th>social_fulfillment_1to5__value</th>\n",
       "    </tr>\n",
       "  </thead>\n",
       "  <tbody>\n",
       "    <tr>\n",
       "      <th>0</th>\n",
       "      <td>demo</td>\n",
       "      <td>2025-08-16 08:41:20.483000+00:00</td>\n",
       "      <td>daily_core</td>\n",
       "      <td>survey</td>\n",
       "      <td>2025-08-16 21:12:58.641000+00:00</td>\n",
       "      <td>4.0</td>\n",
       "      <td>5.0</td>\n",
       "      <td>3.0</td>\n",
       "      <td>5.0</td>\n",
       "      <td>2.0</td>\n",
       "    </tr>\n",
       "  </tbody>\n",
       "</table>\n",
       "</div>"
      ],
      "text/plain": [
       "  subject_id                       session_id      app_id app_type  \\\n",
       "0       demo 2025-08-16 08:41:20.483000+00:00  daily_core   survey   \n",
       "\n",
       "                            ts_utc  happiness_1to5__value  energy_1to5__value  \\\n",
       "0 2025-08-16 21:12:58.641000+00:00                    4.0                 5.0   \n",
       "\n",
       "   stress_1to5__value  productive_1to5__value  social_fulfillment_1to5__value  \n",
       "0                 3.0                     5.0                             2.0  "
      ]
     },
     "execution_count": 5,
     "metadata": {},
     "output_type": "execute_result"
    }
   ],
   "source": [
    "wide"
   ]
  },
  {
   "cell_type": "code",
   "execution_count": null,
   "id": "cf38ff55",
   "metadata": {},
   "outputs": [],
   "source": []
  }
 ],
 "metadata": {
  "kernelspec": {
   "display_name": "base",
   "language": "python",
   "name": "python3"
  },
  "language_info": {
   "codemirror_mode": {
    "name": "ipython",
    "version": 3
   },
   "file_extension": ".py",
   "mimetype": "text/x-python",
   "name": "python",
   "nbconvert_exporter": "python",
   "pygments_lexer": "ipython3",
   "version": "3.12.2"
  }
 },
 "nbformat": 4,
 "nbformat_minor": 5
}
