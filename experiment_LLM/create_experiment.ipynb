{
 "cells": [
  {
   "cell_type": "code",
   "execution_count": 2,
   "metadata": {},
   "outputs": [
    {
     "data": {
      "text/plain": [
       "True"
      ]
     },
     "execution_count": 2,
     "metadata": {},
     "output_type": "execute_result"
    }
   ],
   "source": [
    "import numpy as np\n",
    "import os\n",
    "import sys\n",
    "import json\n",
    "\n",
    "\n",
    "from dotenv import load_dotenv\n",
    "load_dotenv()\n"
   ]
  },
  {
   "cell_type": "markdown",
   "metadata": {},
   "source": [
    "## LLM Usage"
   ]
  },
  {
   "cell_type": "code",
   "execution_count": 3,
   "metadata": {},
   "outputs": [],
   "source": [
    "import openai\n",
    "client = openai.OpenAI()  # This uses your OPENAI_API_KEY from env"
   ]
  },
  {
   "cell_type": "code",
   "execution_count": 21,
   "metadata": {},
   "outputs": [],
   "source": [
    "# question = \"What are the top factors in my life that contribute to my objective and subjective health? Keep it medium burden, 4 weeks\"\n",
    "question = \"How does my mood affect my sleep?\"\n",
    "\n",
    "system_prompt = open(\"experiment_prompt.txt\", \"r\").read()\n",
    "with open(\"library.json\", \"rb\") as f:\n",
    "    library_obj = json.load(f)\n",
    "with open(\"schema.json\", \"rb\") as f:\n",
    "    schema_obj = json.load(f)\n",
    "\n",
    "\n",
    "user_request = (\n",
    "    system_prompt\n",
    "        .replace(\"{{QUESTION}}\", question)\n",
    "        .replace(\"{{LIBRARY_JSON}}\", json.dumps(library_obj, ensure_ascii=False))\n",
    "        .replace(\"{{SCHEMA_JSON}}\", json.dumps(schema_obj, ensure_ascii=False))\n",
    ")"
   ]
  },
  {
   "cell_type": "code",
   "execution_count": 23,
   "metadata": {},
   "outputs": [],
   "source": [
    "response = client.chat.completions.create(\n",
    "    model=\"gpt-3.5-turbo\",\n",
    "    messages=[\n",
    "        {\"role\": \"user\", \"content\": user_request}\n",
    "    ],\n",
    "    temperature=0\n",
    ")\n",
    "# Extract and parse the JSON from the LLM's response\n",
    "content = response.choices[0].message.content\n",
    "result = json.loads(content)"
   ]
  },
  {
   "cell_type": "code",
   "execution_count": 26,
   "metadata": {},
   "outputs": [
    {
     "data": {
      "text/plain": [
       "{'metadata': {'generated_at': '2025-08-18T12:00:00Z',\n",
       "  'planner_version': '1.0.0',\n",
       "  'input_question': 'How does my mood affect my sleep?',\n",
       "  'library_version': '0.1.0'},\n",
       " 'title': 'Mood and Sleep Self-Tracking Experiment',\n",
       " 'research_question': 'How does mood impact sleep quality and duration?',\n",
       " 'hypotheses': ['Higher positive mood leads to better sleep quality and longer duration.',\n",
       "  'Increased stress levels result in poorer sleep quality and shorter duration.'],\n",
       " 'sample': {'size': 1, 'population': 'Self'},\n",
       " 'design': {'type': 'observational',\n",
       "  'duration_days': 28,\n",
       "  'participant_burden_minutes_per_day': 12},\n",
       " 'instruments': [{'library_id': 'survey.daily_core.v1',\n",
       "   'name': 'Daily Core Survey',\n",
       "   'modality': 'survey',\n",
       "   'schedule': {'frequency': 'daily', 'times_of_day': ['morning']},\n",
       "   'metrics': ['energy', 'happiness', 'stress'],\n",
       "   'rationale': 'To capture daily mood and stress levels which may impact sleep.'},\n",
       "  {'library_id': 'survey.behavioral.v1',\n",
       "   'name': 'Behavioral Survey',\n",
       "   'modality': 'survey',\n",
       "   'schedule': {'frequency': 'daily', 'times_of_day': ['evening']},\n",
       "   'metrics': ['sleep_duration', 'sleep_quality'],\n",
       "   'rationale': 'To track sleep duration and quality in relation to daily behaviors.'}],\n",
       " 'schedule': [{'day_index': 1,\n",
       "   'time_window': '06:00-10:00',\n",
       "   'task_library_id': 'survey.daily_core.v1',\n",
       "   'estimated_minutes': 2,\n",
       "   'instruction': 'Complete the Daily Core Survey in the morning.',\n",
       "   'reasons': ['Capture morning mood and stress levels.']},\n",
       "  {'day_index': 1,\n",
       "   'time_window': '19:00-22:00',\n",
       "   'task_library_id': 'survey.behavioral.v1',\n",
       "   'estimated_minutes': 2,\n",
       "   'instruction': 'Complete the Behavioral Survey in the evening.',\n",
       "   'reasons': ['Track daily behaviors and their impact on sleep.']}],\n",
       " 'endpoints': {'primary': ['sleep_duration', 'sleep_quality'],\n",
       "  'secondary': ['energy', 'happiness', 'stress'],\n",
       "  'covariates': []},\n",
       " 'analysis_plan': {'approach': 'Descriptive analysis and correlation',\n",
       "  'models': [],\n",
       "  'missing_data': 'Handle missing data through imputation',\n",
       "  'planned_comparisons': [],\n",
       "  'quality_checks': ['Check for data completeness and consistency']},\n",
       " 'ethics': {'participant_burden': 'The daily burden is kept within 12 minutes to ensure participant comfort.',\n",
       "  'privacy_and_consent': 'Data will be stored securely and anonymized for privacy.',\n",
       "  'risks_and_limitations': 'Self-report bias and adherence risk may affect data quality.'},\n",
       " 'deliverables': {'data_outputs': ['Daily mood and stress levels, sleep duration, sleep quality'],\n",
       "  'expected_insights': ['Relationship between mood, stress, and sleep patterns'],\n",
       "  'future_extensions': ['Explore interventions to improve mood and sleep outcomes']}}"
      ]
     },
     "execution_count": 26,
     "metadata": {},
     "output_type": "execute_result"
    }
   ],
   "source": [
    "result"
   ]
  },
  {
   "cell_type": "code",
   "execution_count": 31,
   "metadata": {},
   "outputs": [],
   "source": [
    "sap_prompt = open(\"plan_to_sap_prompt.txt\", \"r\").read()\n",
    "sap_request = (\n",
    "    sap_prompt\n",
    "        .replace(\"{{QUESTION}}\", question)\n",
    "        .replace(\"{{EXP_JSON}}\", json.dumps(result, ensure_ascii=False))\n",
    "        .replace(\"{{SCHEMA_JSON}}\", json.dumps(schema_obj, ensure_ascii=False))\n",
    ")\n",
    "\n",
    "sap_response = client.chat.completions.create(\n",
    "    model=\"gpt-3.5-turbo\",\n",
    "    messages=[\n",
    "        {\"role\": \"user\", \"content\": sap_request}\n",
    "    ],\n",
    "    temperature=0\n",
    ")\n",
    "# Extract and parse the JSON from the LLM's response\n",
    "sap_contest = sap_response.choices[0].message.content\n",
    "# result = json.loads(content)"
   ]
  },
  {
   "cell_type": "code",
   "execution_count": 35,
   "metadata": {},
   "outputs": [
    {
     "name": "stdout",
     "output_type": "stream",
     "text": [
      "## Title\n",
      "- Mood and Sleep Self-Tracking Experiment\n",
      "\n",
      "## Research Question & Hypotheses\n",
      "- Research Question: How does mood impact sleep quality and duration?\n",
      "- Hypotheses:\n",
      "  - Higher positive mood leads to better sleep quality and longer duration.\n",
      "  - Increased stress levels result in poorer sleep quality and shorter duration.\n",
      "\n",
      "## Sample Characteristics\n",
      "- Sample Size: 1\n",
      "- Population: Self\n",
      "- Inclusion Criteria: N/A\n",
      "- Exclusion Criteria: N/A\n",
      "\n",
      "## Study Design\n",
      "- Design Type: Observational\n",
      "- Duration: 28 days\n",
      "- Timing Windows: Morning, Evening\n",
      "- Burden: 12 minutes per day, average\n",
      "\n",
      "## Instruments & Rationale\n",
      "- Daily Core Survey (survey.daily_core.v1 / survey)\n",
      "  - Schedule: Daily, Morning\n",
      "  - Metrics: energy, happiness, stress\n",
      "  - Rationale: To capture daily mood and stress levels which may impact sleep.\n",
      "- Behavioral Survey (survey.behavioral.v1 / survey)\n",
      "  - Schedule: Daily, Evening\n",
      "  - Metrics: sleep duration, sleep quality\n",
      "  - Rationale: To track sleep duration and quality in relation to daily behaviors.\n",
      "\n",
      "## Schedule Summary (Weekly Cadence)\n",
      "| Instrument | Library ID | Modality | Frequency | Time(s) of Day | Days of Week | Est. Minutes | Rationale |\n",
      "|------------|------------|----------|-----------|----------------|--------------|--------------|-----------|\n",
      "| Daily Core Survey | survey.daily_core.v1 | survey | Daily | Morning | N/A | 2 | Capture morning mood and stress levels. |\n",
      "| Behavioral Survey | survey.behavioral.v1 | survey | Daily | Evening | N/A | 2 | Track daily behaviors and their impact on sleep. |\n",
      "Average daily minutes: 4 minutes/day. Heavier days may include PVT/Stroop days.\n",
      "\n",
      "## Variables & Endpoints\n",
      "- Primary Endpoint(s): sleep duration, sleep quality\n",
      "- Secondary Endpoints: energy, happiness, stress\n",
      "- Covariates/Contextual Data: N/A\n",
      "\n",
      "## Analysis Plan\n",
      "- Approach: Descriptive analysis and correlation\n",
      "- Models: N/A\n",
      "- Lagged Features: N/A\n",
      "- Planned Comparisons: N/A\n",
      "- Missing Data: Handle missing data through imputation\n",
      "- Quality Checks: Check for data completeness and consistency\n",
      "\n",
      "## Ethical & Practical Considerations\n",
      "- Participant Burden: The daily burden is kept within 12 minutes to ensure participant comfort.\n",
      "- Privacy & Consent: Data will be stored securely and anonymized for privacy.\n",
      "- Risks & Limitations: Self-report bias and adherence risk may affect data quality.\n",
      "\n",
      "## Deliverables\n",
      "- Data Outputs: Daily mood and stress levels, sleep duration, sleep quality\n",
      "- Expected Insights: Relationship between mood, stress, and sleep patterns\n",
      "- Future Extensions: Explore interventions to improve mood and sleep outcomes\n",
      "\n",
      "## Metadata\n",
      "- Generated at: 2025-08-18T12:00:00Z\n",
      "- Planner Version: 1.0.0\n",
      "- Library Version: 0.1.0\n"
     ]
    }
   ],
   "source": [
    "print(sap_contest)"
   ]
  },
  {
   "cell_type": "code",
   "execution_count": 30,
   "metadata": {},
   "outputs": [
    {
     "data": {
      "text/plain": [
       "'{\"metadata\": {\"generated_at\": \"2025-08-18T12:00:00Z\", \"planner_version\": \"1.0.0\", \"input_question\": \"How does my mood affect my sleep?\", \"library_version\": \"0.1.0\"}, \"title\": \"Mood and Sleep Self-Tracking Experiment\", \"research_question\": \"How does mood impact sleep quality and duration?\", \"hypotheses\": [\"Higher positive mood leads to better sleep quality and longer duration.\", \"Increased stress levels result in poorer sleep quality and shorter duration.\"], \"sample\": {\"size\": 1, \"population\": \"Self\"}, \"design\": {\"type\": \"observational\", \"duration_days\": 28, \"participant_burden_minutes_per_day\": 12}, \"instruments\": [{\"library_id\": \"survey.daily_core.v1\", \"name\": \"Daily Core Survey\", \"modality\": \"survey\", \"schedule\": {\"frequency\": \"daily\", \"times_of_day\": [\"morning\"]}, \"metrics\": [\"energy\", \"happiness\", \"stress\"], \"rationale\": \"To capture daily mood and stress levels which may impact sleep.\"}, {\"library_id\": \"survey.behavioral.v1\", \"name\": \"Behavioral Survey\", \"modality\": \"survey\", \"schedule\": {\"frequency\": \"daily\", \"times_of_day\": [\"evening\"]}, \"metrics\": [\"sleep_duration\", \"sleep_quality\"], \"rationale\": \"To track sleep duration and quality in relation to daily behaviors.\"}], \"schedule\": [{\"day_index\": 1, \"time_window\": \"06:00-10:00\", \"task_library_id\": \"survey.daily_core.v1\", \"estimated_minutes\": 2, \"instruction\": \"Complete the Daily Core Survey in the morning.\", \"reasons\": [\"Capture morning mood and stress levels.\"]}, {\"day_index\": 1, \"time_window\": \"19:00-22:00\", \"task_library_id\": \"survey.behavioral.v1\", \"estimated_minutes\": 2, \"instruction\": \"Complete the Behavioral Survey in the evening.\", \"reasons\": [\"Track daily behaviors and their impact on sleep.\"]}], \"endpoints\": {\"primary\": [\"sleep_duration\", \"sleep_quality\"], \"secondary\": [\"energy\", \"happiness\", \"stress\"], \"covariates\": []}, \"analysis_plan\": {\"approach\": \"Descriptive analysis and correlation\", \"models\": [], \"missing_data\": \"Handle missing data through imputation\", \"planned_comparisons\": [], \"quality_checks\": [\"Check for data completeness and consistency\"]}, \"ethics\": {\"participant_burden\": \"The daily burden is kept within 12 minutes to ensure participant comfort.\", \"privacy_and_consent\": \"Data will be stored securely and anonymized for privacy.\", \"risks_and_limitations\": \"Self-report bias and adherence risk may affect data quality.\"}, \"deliverables\": {\"data_outputs\": [\"Daily mood and stress levels, sleep duration, sleep quality\"], \"expected_insights\": [\"Relationship between mood, stress, and sleep patterns\"], \"future_extensions\": [\"Explore interventions to improve mood and sleep outcomes\"]}}'"
      ]
     },
     "execution_count": 30,
     "metadata": {},
     "output_type": "execute_result"
    }
   ],
   "source": [
    "json.dumps(result, ensure_ascii=False)"
   ]
  },
  {
   "cell_type": "code",
   "execution_count": null,
   "metadata": {},
   "outputs": [],
   "source": []
  }
 ],
 "metadata": {
  "kernelspec": {
   "display_name": "base",
   "language": "python",
   "name": "python3"
  },
  "language_info": {
   "codemirror_mode": {
    "name": "ipython",
    "version": 3
   },
   "file_extension": ".py",
   "mimetype": "text/x-python",
   "name": "python",
   "nbconvert_exporter": "python",
   "pygments_lexer": "ipython3",
   "version": "3.12.2"
  }
 },
 "nbformat": 4,
 "nbformat_minor": 2
}
